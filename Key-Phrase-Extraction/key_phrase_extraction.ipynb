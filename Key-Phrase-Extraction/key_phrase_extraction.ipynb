{
 "cells": [
  {
   "cell_type": "markdown",
   "id": "handmade-evening",
   "metadata": {},
   "source": [
    "## Import Libraries"
   ]
  },
  {
   "cell_type": "code",
   "execution_count": 3,
   "id": "prepared-arena",
   "metadata": {},
   "outputs": [],
   "source": [
    "import numpy as np\n",
    "import pandas as pd\n",
    "import re\n",
    "import nltk\n",
    "from nltk.corpus import stopwords\n",
    "from rake_nltk import Rake\n",
    "\n",
    "# Visualization\n",
    "import matplotlib.pyplot as plt\n",
    "import seaborn as sns\n",
    "%matplotlib inline\n",
    "\n",
    "# Autocompletion\n",
    "%config Completer.use_jedi = False\n",
    "\n",
    "pd.set_option('display.max_colwidth', None)"
   ]
  },
  {
   "cell_type": "markdown",
   "id": "built-authorization",
   "metadata": {},
   "source": [
    "## Load Data"
   ]
  },
  {
   "cell_type": "code",
   "execution_count": 64,
   "id": "south-soccer",
   "metadata": {},
   "outputs": [],
   "source": [
    "camera_df = pd.read_excel('data/Smartphones_Camera.xlsx',sheet_name='result 1')"
   ]
  },
  {
   "cell_type": "code",
   "execution_count": 65,
   "id": "incorporated-arthritis",
   "metadata": {},
   "outputs": [
    {
     "data": {
      "text/html": [
       "<div>\n",
       "<style scoped>\n",
       "    .dataframe tbody tr th:only-of-type {\n",
       "        vertical-align: middle;\n",
       "    }\n",
       "\n",
       "    .dataframe tbody tr th {\n",
       "        vertical-align: top;\n",
       "    }\n",
       "\n",
       "    .dataframe thead th {\n",
       "        text-align: right;\n",
       "    }\n",
       "</style>\n",
       "<table border=\"1\" class=\"dataframe\">\n",
       "  <thead>\n",
       "    <tr style=\"text-align: right;\">\n",
       "      <th></th>\n",
       "      <th>attribute_name</th>\n",
       "      <th>sentence</th>\n",
       "      <th>indicator_phrase</th>\n",
       "      <th>sentiment</th>\n",
       "    </tr>\n",
       "  </thead>\n",
       "  <tbody>\n",
       "    <tr>\n",
       "      <th>0</th>\n",
       "      <td>Camera</td>\n",
       "      <td>I'm not even impressed with the camera as I thought I would.</td>\n",
       "      <td>camera</td>\n",
       "      <td>-1</td>\n",
       "    </tr>\n",
       "    <tr>\n",
       "      <th>1</th>\n",
       "      <td>Camera</td>\n",
       "      <td>But if you want a phone that is 5G ready, has ample memory, had a display that is as good or better than any others on the market, and has a spectacular three-lens camera that produces accurate color and functions extraordinarily well in low light (despite a small aperture), this is it.</td>\n",
       "      <td>camera</td>\n",
       "      <td>1</td>\n",
       "    </tr>\n",
       "    <tr>\n",
       "      <th>2</th>\n",
       "      <td>Camera</td>\n",
       "      <td>Super handy, great display 'Battery life good, outstanding camera.</td>\n",
       "      <td>camera</td>\n",
       "      <td>1</td>\n",
       "    </tr>\n",
       "    <tr>\n",
       "      <th>3</th>\n",
       "      <td>Camera</td>\n",
       "      <td>No problems with the update, great photos, fluid run and very clear.</td>\n",
       "      <td>photos</td>\n",
       "      <td>1</td>\n",
       "    </tr>\n",
       "    <tr>\n",
       "      <th>4</th>\n",
       "      <td>Camera</td>\n",
       "      <td>Camera Good Super Slow Function Funny, IP68 Top, Micro SD good, battery firmly installed unfortunately, the S5 is better.</td>\n",
       "      <td>Camera</td>\n",
       "      <td>1</td>\n",
       "    </tr>\n",
       "  </tbody>\n",
       "</table>\n",
       "</div>"
      ],
      "text/plain": [
       "  attribute_name  \\\n",
       "0         Camera   \n",
       "1         Camera   \n",
       "2         Camera   \n",
       "3         Camera   \n",
       "4         Camera   \n",
       "\n",
       "                                                                                                                                                                                                                                                                                          sentence  \\\n",
       "0                                                                                                                                                                                                                                     I'm not even impressed with the camera as I thought I would.   \n",
       "1  But if you want a phone that is 5G ready, has ample memory, had a display that is as good or better than any others on the market, and has a spectacular three-lens camera that produces accurate color and functions extraordinarily well in low light (despite a small aperture), this is it.   \n",
       "2                                                                                                                                                                                                                               Super handy, great display 'Battery life good, outstanding camera.   \n",
       "3                                                                                                                                                                                                                             No problems with the update, great photos, fluid run and very clear.   \n",
       "4                                                                                                                                                                        Camera Good Super Slow Function Funny, IP68 Top, Micro SD good, battery firmly installed unfortunately, the S5 is better.   \n",
       "\n",
       "  indicator_phrase  sentiment  \n",
       "0           camera         -1  \n",
       "1           camera          1  \n",
       "2           camera          1  \n",
       "3           photos          1  \n",
       "4           Camera          1  "
      ]
     },
     "execution_count": 65,
     "metadata": {},
     "output_type": "execute_result"
    }
   ],
   "source": [
    "camera_df.head(5)"
   ]
  },
  {
   "cell_type": "code",
   "execution_count": 66,
   "id": "editorial-friend",
   "metadata": {},
   "outputs": [
    {
     "data": {
      "text/plain": [
       "0                                                                                                                                                                                                                                       I'm not even impressed with the camera as I thought I would.\n",
       "1    But if you want a phone that is 5G ready, has ample memory, had a display that is as good or better than any others on the market, and has a spectacular three-lens camera that produces accurate color and functions extraordinarily well in low light (despite a small aperture), this is it.\n",
       "Name: sentence, dtype: object"
      ]
     },
     "execution_count": 66,
     "metadata": {},
     "output_type": "execute_result"
    }
   ],
   "source": [
    "camera_df['sentence'].head(2)"
   ]
  },
  {
   "cell_type": "markdown",
   "id": "german-calcium",
   "metadata": {},
   "source": [
    "## Exploratory Data Analysis"
   ]
  },
  {
   "cell_type": "code",
   "execution_count": 67,
   "id": "mineral-correction",
   "metadata": {},
   "outputs": [
    {
     "name": "stdout",
     "output_type": "stream",
     "text": [
      "<class 'pandas.core.frame.DataFrame'>\n",
      "RangeIndex: 10000 entries, 0 to 9999\n",
      "Data columns (total 4 columns):\n",
      " #   Column            Non-Null Count  Dtype \n",
      "---  ------            --------------  ----- \n",
      " 0   attribute_name    10000 non-null  object\n",
      " 1   sentence          10000 non-null  object\n",
      " 2   indicator_phrase  10000 non-null  object\n",
      " 3   sentiment         10000 non-null  int64 \n",
      "dtypes: int64(1), object(3)\n",
      "memory usage: 312.6+ KB\n"
     ]
    }
   ],
   "source": [
    "### Summary of the dataset\n",
    "\n",
    "camera_df.info()"
   ]
  },
  {
   "cell_type": "code",
   "execution_count": 68,
   "id": "settled-brave",
   "metadata": {},
   "outputs": [
    {
     "data": {
      "text/plain": [
       "Camera    10000\n",
       "Name: attribute_name, dtype: int64"
      ]
     },
     "execution_count": 68,
     "metadata": {},
     "output_type": "execute_result"
    }
   ],
   "source": [
    "camera_df['attribute_name'].value_counts()"
   ]
  },
  {
   "cell_type": "code",
   "execution_count": 69,
   "id": "everyday-report",
   "metadata": {},
   "outputs": [
    {
     "data": {
      "text/plain": [
       " 1    6486\n",
       "-1    2217\n",
       " 0    1297\n",
       "Name: sentiment, dtype: int64"
      ]
     },
     "execution_count": 69,
     "metadata": {},
     "output_type": "execute_result"
    }
   ],
   "source": [
    "camera_df['sentiment'].value_counts()"
   ]
  },
  {
   "cell_type": "code",
   "execution_count": 70,
   "id": "concrete-stereo",
   "metadata": {},
   "outputs": [
    {
     "data": {
      "text/plain": [
       "<AxesSubplot:xlabel='sentiment', ylabel='count'>"
      ]
     },
     "execution_count": 70,
     "metadata": {},
     "output_type": "execute_result"
    },
    {
     "data": {
      "image/png": "[encoded data removed]",
      "text/plain": [
       "<Figure size 576x360 with 1 Axes>"
      ]
     },
     "metadata": {
      "needs_background": "light"
     },
     "output_type": "display_data"
    }
   ],
   "source": [
    "## Plot the counts of the sentiments in the new column\n",
    "\n",
    "fig = plt.figure(figsize=(8,5))\n",
    "sns.countplot(x='sentiment', data=camera_df, palette='Set1', order=[-1, 0, 1])"
   ]
  },
  {
   "cell_type": "code",
   "execution_count": 71,
   "id": "speaking-conspiracy",
   "metadata": {},
   "outputs": [
    {
     "data": {
      "text/plain": [
       "camera      4494\n",
       "photos      1509\n",
       "pictures     906\n",
       "Camera       470\n",
       "photo        338\n",
       "Name: indicator_phrase, dtype: int64"
      ]
     },
     "execution_count": 71,
     "metadata": {},
     "output_type": "execute_result"
    }
   ],
   "source": [
    "camera_df['indicator_phrase'].value_counts().head(5)"
   ]
  },
  {
   "cell_type": "code",
   "execution_count": 72,
   "id": "partial-stephen",
   "metadata": {},
   "outputs": [
    {
     "data": {
      "text/plain": [
       "attribute_name      0\n",
       "sentence            0\n",
       "indicator_phrase    0\n",
       "sentiment           0\n",
       "dtype: int64"
      ]
     },
     "execution_count": 72,
     "metadata": {},
     "output_type": "execute_result"
    }
   ],
   "source": [
    "## Check if the labels are mutually exclusive\n",
    "\n",
    "camera_df[(camera_df['sentiment'] == -1) & ((camera_df['sentiment'] == 0) | (camera_df['sentiment'] == 1))].count()"
   ]
  },
  {
   "cell_type": "code",
   "execution_count": 73,
   "id": "functional-change",
   "metadata": {},
   "outputs": [
    {
     "data": {
      "text/plain": [
       "0"
      ]
     },
     "execution_count": 73,
     "metadata": {},
     "output_type": "execute_result"
    }
   ],
   "source": [
    "# Check for only whitespace strings in sentence column\n",
    "\n",
    "white_space = []  # start with an empty list\n",
    "\n",
    "for i, _, sentence, _, _ in camera_df.itertuples():\n",
    "    if type(sentence)==str and sentence.isspace():\n",
    "        white_space.append(i)\n",
    "\n",
    "len(white_space)"
   ]
  },
  {
   "cell_type": "markdown",
   "id": "independent-coast",
   "metadata": {},
   "source": [
    "## Data Cleaning / Text Processing"
   ]
  },
  {
   "cell_type": "markdown",
   "id": "green-source",
   "metadata": {},
   "source": [
    "### Convert text to lower case"
   ]
  },
  {
   "cell_type": "code",
   "execution_count": 74,
   "id": "specific-blend",
   "metadata": {},
   "outputs": [],
   "source": [
    "def convert_to_lower_case(text):\n",
    "    return \" \".join(text.lower() for text in text.split())\n",
    "\n",
    "camera_df['sentence'] = camera_df['sentence'].apply(lambda sentence: convert_to_lower_case(sentence))"
   ]
  },
  {
   "cell_type": "code",
   "execution_count": 75,
   "id": "passing-communist",
   "metadata": {},
   "outputs": [
    {
     "data": {
      "text/plain": [
       "0                                                                                                                                                                                                                                       i'm not even impressed with the camera as i thought i would.\n",
       "1    but if you want a phone that is 5g ready, has ample memory, had a display that is as good or better than any others on the market, and has a spectacular three-lens camera that produces accurate color and functions extraordinarily well in low light (despite a small aperture), this is it.\n",
       "Name: sentence, dtype: object"
      ]
     },
     "execution_count": 75,
     "metadata": {},
     "output_type": "execute_result"
    }
   ],
   "source": [
    "# Check if the sentences have been lower-cased\n",
    "camera_df['sentence'].head(2)"
   ]
  },
  {
   "cell_type": "markdown",
   "id": "innocent-detective",
   "metadata": {},
   "source": [
    "### Contraction Mapping"
   ]
  },
  {
   "cell_type": "code",
   "execution_count": 76,
   "id": "posted-incentive",
   "metadata": {},
   "outputs": [],
   "source": [
    "def apply_contraction_mapping(text):\n",
    "    contraction_mapping = {\"ain't\": \"is not\", \"aren't\": \"are not\", \"can't\": \"cannot\", \"'cause\": \"because\",\n",
    "                           \"could've\": \"could have\", \"couldn't\": \"could not\",\n",
    "                           \"didn't\": \"did not\", \"doesn't\": \"does not\", \"don't\": \"do not\", \"hadn't\": \"had not\",\n",
    "                           \"hasn't\": \"has not\", \"haven't\": \"have not\", \"he'd\": \"he would\", \"he'll\": \"he will\",\n",
    "                           \"he's\": \"he is\", \"how'd\": \"how did\", \"how'd'y\": \"how do you\", \"how'll\": \"how will\",\n",
    "                           \"how's\": \"how is\", \"I'd\": \"I would\", \"I'd've\": \"I would have\", \"I'll\": \"I will\",\n",
    "                           \"I'll've\": \"I will have\", \"I'm\": \"I am\", \"I've\": \"I have\", \"i'd\": \"i would\",\n",
    "                           \"i'd've\": \"i would have\", \"i'll\": \"i will\", \"i'll've\": \"i will have\", \"i'm\": \"i am\",\n",
    "                           \"i've\": \"i have\", \"isn't\": \"is not\", \"it'd\": \"it would\", \"it'd've\": \"it would have\",\n",
    "                           \"it'll\": \"it will\", \"it'll've\": \"it will have\", \"it's\": \"it is\", \"let's\": \"let us\",\n",
    "                           \"ma'am\": \"madam\", \"mayn't\": \"may not\", \"might've\": \"might have\", \"mightn't\": \"might not\",\n",
    "                           \"mightn't've\": \"might not have\", \"must've\": \"must have\", \"mustn't\": \"must not\",\n",
    "                           \"mustn't've\": \"must not have\", \"needn't\": \"need not\", \"needn't've\": \"need not have\",\n",
    "                           \"o'clock\": \"of the clock\", \"oughtn't\": \"ought not\", \"oughtn't've\": \"ought not have\",\n",
    "                           \"shan't\": \"shall not\", \"sha'n't\": \"shall not\", \"shan't've\": \"shall not have\",\n",
    "                           \"she'd\": \"she would\", \"she'd've\": \"she would have\", \"she'll\": \"she will\",\n",
    "                           \"she'll've\": \"she will have\", \"she's\": \"she is\", \"should've\": \"should have\",\n",
    "                           \"shouldn't\": \"should not\", \"shouldn't've\": \"should not have\", \"so've\": \"so have\",\n",
    "                           \"so's\": \"so as\",\n",
    "                           \"this's\": \"this is\", \"that'd\": \"that would\", \"that'd've\": \"that would have\",\n",
    "                           \"that's\": \"that is\",\n",
    "                           \"there'd\": \"there would\", \"there'd've\": \"there would have\", \"there's\": \"there is\",\n",
    "                           \"here's\": \"here is\",\n",
    "                           \"they'd\": \"they would\", \"they'd've\": \"they would have\", \"they'll\": \"they will\",\n",
    "                           \"they'll've\": \"they will have\",\n",
    "                           \"they're\": \"they are\", \"they've\": \"they have\", \"to've\": \"to have\", \"wasn't\": \"was not\",\n",
    "                           \"we'd\": \"we would\", \"we'd've\": \"we would have\", \"we'll\": \"we will\",\n",
    "                           \"we'll've\": \"we will have\",\n",
    "                           \"we're\": \"we are\", \"we've\": \"we have\", \"weren't\": \"were not\", \"what'll\": \"what will\",\n",
    "                           \"what'll've\": \"what will have\",\n",
    "                           \"what're\": \"what are\", \"what's\": \"what is\", \"what've\": \"what have\", \"when's\": \"when is\",\n",
    "                           \"when've\": \"when have\",\n",
    "                           \"where'd\": \"where did\", \"where's\": \"where is\", \"where've\": \"where have\",\n",
    "                           \"who'll\": \"who will\",\n",
    "                           \"who'll've\": \"who will have\",\n",
    "                           \"who's\": \"who is\", \"who've\": \"who have\", \"why's\": \"why is\", \"why've\": \"why have\",\n",
    "                           \"will've\": \"will have\",\n",
    "                           \"won't\": \"will not\", \"won't've\": \"will not have\", \"would've\": \"would have\",\n",
    "                           \"wouldn't\": \"would not\",\n",
    "                           \"wouldn't've\": \"would not have\", \"y'all\": \"you all\", \"y'all'd\": \"you all would\",\n",
    "                           \"y'all'd've\": \"you all would have\",\n",
    "                           \"y'all're\": \"you all are\", \"y'all've\": \"you all have\", \"you'd\": \"you would\",\n",
    "                           \"you'd've\": \"you would have\", \"you'll\": \"you will\",\n",
    "                           \"you'll've\": \"you will have\", \"you're\": \"you are\", \"you've\": \"you have\"}\n",
    "    specials = [\"’\", \"‘\", \"´\", \"`\"]\n",
    "    for s in specials:\n",
    "        text = text.replace(s, \"'\")\n",
    "    text = ' '.join([contraction_mapping[t] if t in contraction_mapping else t for t in text.split(\" \")])\n",
    "    return text"
   ]
  },
  {
   "cell_type": "code",
   "execution_count": 77,
   "id": "frozen-sullivan",
   "metadata": {},
   "outputs": [],
   "source": [
    "camera_df['sentence'] = camera_df['sentence'].apply(apply_contraction_mapping)"
   ]
  },
  {
   "cell_type": "code",
   "execution_count": 78,
   "id": "silver-insert",
   "metadata": {},
   "outputs": [
    {
     "data": {
      "text/plain": [
       "0                                                                                                                                                                                                                                      i am not even impressed with the camera as i thought i would.\n",
       "1    but if you want a phone that is 5g ready, has ample memory, had a display that is as good or better than any others on the market, and has a spectacular three-lens camera that produces accurate color and functions extraordinarily well in low light (despite a small aperture), this is it.\n",
       "Name: sentence, dtype: object"
      ]
     },
     "execution_count": 78,
     "metadata": {},
     "output_type": "execute_result"
    }
   ],
   "source": [
    "# Check if the comtraction mapping is applied\n",
    "camera_df['sentence'].head(2)"
   ]
  },
  {
   "cell_type": "markdown",
   "id": "noted-patrol",
   "metadata": {},
   "source": [
    "### Remove punctuations"
   ]
  },
  {
   "cell_type": "code",
   "execution_count": 79,
   "id": "liable-procedure",
   "metadata": {},
   "outputs": [],
   "source": [
    "def remove_punctuations(text):\n",
    "    return re.sub(r'[^\\w\\s]','',text)\n",
    "\n",
    "camera_df['sentence'] = camera_df['sentence'].apply(lambda sentence: remove_punctuations(sentence))"
   ]
  },
  {
   "cell_type": "code",
   "execution_count": 80,
   "id": "parliamentary-casino",
   "metadata": {},
   "outputs": [
    {
     "data": {
      "text/plain": [
       "0                                                                                                                                                                                                                               i am not even impressed with the camera as i thought i would\n",
       "1    but if you want a phone that is 5g ready has ample memory had a display that is as good or better than any others on the market and has a spectacular threelens camera that produces accurate color and functions extraordinarily well in low light despite a small aperture this is it\n",
       "Name: sentence, dtype: object"
      ]
     },
     "execution_count": 80,
     "metadata": {},
     "output_type": "execute_result"
    }
   ],
   "source": [
    "# Check if the punctuations are removed\n",
    "camera_df['sentence'].head(2)"
   ]
  },
  {
   "cell_type": "markdown",
   "id": "daily-swing",
   "metadata": {},
   "source": [
    "### Fix Spelling Mistakes"
   ]
  },
  {
   "cell_type": "markdown",
   "id": "personalized-venezuela",
   "metadata": {},
   "source": [
    "#### TBD"
   ]
  },
  {
   "cell_type": "markdown",
   "id": "ultimate-crossing",
   "metadata": {},
   "source": [
    "### Remove stopwords\n",
    "\n",
    "Sentence1: before -> i am **not even impressed** with the camera as i thought i would\n",
    "after removing stopwords -> **even impressed** camera thought would\n",
    "\n",
    "I do not think, we should use stopwords out of the box or other option would be to remove certain words from the stopwords corpus (like `not`)"
   ]
  },
  {
   "cell_type": "code",
   "execution_count": 92,
   "id": "initial-practice",
   "metadata": {},
   "outputs": [
    {
     "name": "stderr",
     "output_type": "stream",
     "text": [
      "[nltk_data] Downloading package stopwords to /Users/amit/nltk_data...\n",
      "[nltk_data]   Package stopwords is already up-to-date!\n"
     ]
    }
   ],
   "source": [
    "nltk.download('stopwords')\n",
    "stop_words = stopwords.words('english')\n",
    "\n",
    "# removing not \n",
    "\n",
    "stop_words.remove('not')\n",
    "stop_words.remove('no')\n",
    "\n",
    "\n",
    "\n",
    "#def remove_stopwords(text):\n",
    "    #return \" \".join(x for x in text.split() if x not in stop_words)\n",
    "\n",
    "#camera_df['sentence'] = camera_df['sentence'].apply(lambda sentence: remove_stopwords(sentence))"
   ]
  },
  {
   "cell_type": "code",
   "execution_count": 89,
   "id": "indirect-float",
   "metadata": {},
   "outputs": [
    {
     "data": {
      "text/plain": [
       "['i',\n",
       " 'me',\n",
       " 'my',\n",
       " 'myself',\n",
       " 'we',\n",
       " 'our',\n",
       " 'ours',\n",
       " 'ourselves',\n",
       " 'you',\n",
       " \"you're\",\n",
       " \"you've\",\n",
       " \"you'll\",\n",
       " \"you'd\",\n",
       " 'your',\n",
       " 'yours',\n",
       " 'yourself',\n",
       " 'yourselves',\n",
       " 'he',\n",
       " 'him',\n",
       " 'his',\n",
       " 'himself',\n",
       " 'she',\n",
       " \"she's\",\n",
       " 'her',\n",
       " 'hers',\n",
       " 'herself',\n",
       " 'it',\n",
       " \"it's\",\n",
       " 'its',\n",
       " 'itself',\n",
       " 'they',\n",
       " 'them',\n",
       " 'their',\n",
       " 'theirs',\n",
       " 'themselves',\n",
       " 'what',\n",
       " 'which',\n",
       " 'who',\n",
       " 'whom',\n",
       " 'this',\n",
       " 'that',\n",
       " \"that'll\",\n",
       " 'these',\n",
       " 'those',\n",
       " 'am',\n",
       " 'is',\n",
       " 'are',\n",
       " 'was',\n",
       " 'were',\n",
       " 'be',\n",
       " 'been',\n",
       " 'being',\n",
       " 'have',\n",
       " 'has',\n",
       " 'had',\n",
       " 'having',\n",
       " 'do',\n",
       " 'does',\n",
       " 'did',\n",
       " 'doing',\n",
       " 'a',\n",
       " 'an',\n",
       " 'the',\n",
       " 'and',\n",
       " 'but',\n",
       " 'if',\n",
       " 'or',\n",
       " 'because',\n",
       " 'as',\n",
       " 'until',\n",
       " 'while',\n",
       " 'of',\n",
       " 'at',\n",
       " 'by',\n",
       " 'for',\n",
       " 'with',\n",
       " 'about',\n",
       " 'against',\n",
       " 'between',\n",
       " 'into',\n",
       " 'through',\n",
       " 'during',\n",
       " 'before',\n",
       " 'after',\n",
       " 'above',\n",
       " 'below',\n",
       " 'to',\n",
       " 'from',\n",
       " 'up',\n",
       " 'down',\n",
       " 'in',\n",
       " 'out',\n",
       " 'on',\n",
       " 'off',\n",
       " 'over',\n",
       " 'under',\n",
       " 'again',\n",
       " 'further',\n",
       " 'then',\n",
       " 'once',\n",
       " 'here',\n",
       " 'there',\n",
       " 'when',\n",
       " 'where',\n",
       " 'why',\n",
       " 'how',\n",
       " 'all',\n",
       " 'any',\n",
       " 'both',\n",
       " 'each',\n",
       " 'few',\n",
       " 'more',\n",
       " 'most',\n",
       " 'other',\n",
       " 'some',\n",
       " 'such',\n",
       " 'no',\n",
       " 'nor',\n",
       " 'only',\n",
       " 'own',\n",
       " 'same',\n",
       " 'so',\n",
       " 'than',\n",
       " 'too',\n",
       " 'very',\n",
       " 's',\n",
       " 't',\n",
       " 'can',\n",
       " 'will',\n",
       " 'just',\n",
       " 'don',\n",
       " \"don't\",\n",
       " 'should',\n",
       " \"should've\",\n",
       " 'now',\n",
       " 'd',\n",
       " 'll',\n",
       " 'm',\n",
       " 'o',\n",
       " 're',\n",
       " 've',\n",
       " 'y',\n",
       " 'ain',\n",
       " 'aren',\n",
       " \"aren't\",\n",
       " 'couldn',\n",
       " \"couldn't\",\n",
       " 'didn',\n",
       " \"didn't\",\n",
       " 'doesn',\n",
       " \"doesn't\",\n",
       " 'hadn',\n",
       " \"hadn't\",\n",
       " 'hasn',\n",
       " \"hasn't\",\n",
       " 'haven',\n",
       " \"haven't\",\n",
       " 'isn',\n",
       " \"isn't\",\n",
       " 'ma',\n",
       " 'mightn',\n",
       " \"mightn't\",\n",
       " 'mustn',\n",
       " \"mustn't\",\n",
       " 'needn',\n",
       " \"needn't\",\n",
       " 'shan',\n",
       " \"shan't\",\n",
       " 'shouldn',\n",
       " \"shouldn't\",\n",
       " 'wasn',\n",
       " \"wasn't\",\n",
       " 'weren',\n",
       " \"weren't\",\n",
       " 'won',\n",
       " \"won't\",\n",
       " 'wouldn',\n",
       " \"wouldn't\"]"
      ]
     },
     "execution_count": 89,
     "metadata": {},
     "output_type": "execute_result"
    }
   ],
   "source": [
    "stop_words"
   ]
  },
  {
   "cell_type": "code",
   "execution_count": 82,
   "id": "functioning-colombia",
   "metadata": {},
   "outputs": [],
   "source": [
    "## Check if stopwords are removed \n",
    "#camera_df['sentence'].head(2)"
   ]
  },
  {
   "cell_type": "code",
   "execution_count": null,
   "id": "hidden-ticket",
   "metadata": {},
   "outputs": [],
   "source": []
  },
  {
   "cell_type": "markdown",
   "id": "substantial-softball",
   "metadata": {},
   "source": [
    "### Lemmatization/Stemming\n",
    "\n",
    "Not used, as I do not want to break the POS tagging or change the polarity of words."
   ]
  },
  {
   "cell_type": "markdown",
   "id": "comparative-following",
   "metadata": {},
   "source": [
    "# Key-phrase Extraction "
   ]
  },
  {
   "cell_type": "code",
   "execution_count": 85,
   "id": "anticipated-mobile",
   "metadata": {},
   "outputs": [
    {
     "data": {
      "text/plain": [
       "0                                                                                                                                                                                                                               i am not even impressed with the camera as i thought i would\n",
       "1    but if you want a phone that is 5g ready has ample memory had a display that is as good or better than any others on the market and has a spectacular threelens camera that produces accurate color and functions extraordinarily well in low light despite a small aperture this is it\n",
       "Name: sentence, dtype: object"
      ]
     },
     "execution_count": 85,
     "metadata": {},
     "output_type": "execute_result"
    }
   ],
   "source": [
    "camera_df['sentence'].head(2)"
   ]
  },
  {
   "cell_type": "code",
   "execution_count": 93,
   "id": "conservative-woman",
   "metadata": {},
   "outputs": [
    {
     "ename": "ModuleNotFoundError",
     "evalue": "No module named 'pke'",
     "output_type": "error",
     "traceback": [
      "\u001B[0;31m---------------------------------------------------------------------------\u001B[0m",
      "\u001B[0;31mModuleNotFoundError\u001B[0m                       Traceback (most recent call last)",
      "\u001B[0;32m<ipython-input-93-6769976d5eff>\u001B[0m in \u001B[0;36m<module>\u001B[0;34m\u001B[0m\n\u001B[0;32m----> 1\u001B[0;31m \u001B[0;32mimport\u001B[0m \u001B[0mpke\u001B[0m\u001B[0;34m\u001B[0m\u001B[0;34m\u001B[0m\u001B[0m\n\u001B[0m",
      "\u001B[0;31mModuleNotFoundError\u001B[0m: No module named 'pke'"
     ]
    }
   ],
   "source": [
    "import pke"
   ]
  },
  {
   "cell_type": "code",
   "execution_count": null,
   "id": "relevant-daily",
   "metadata": {},
   "outputs": [],
   "source": []
  }
 ],
 "metadata": {
  "kernelspec": {
   "display_name": "Python 3",
   "language": "python",
   "name": "python3"
  },
  "language_info": {
   "codemirror_mode": {
    "name": "ipython",
    "version": 3
   },
   "file_extension": ".py",
   "mimetype": "text/x-python",
   "name": "python",
   "nbconvert_exporter": "python",
   "pygments_lexer": "ipython3",
   "version": "3.7.3"
  }
 },
 "nbformat": 4,
 "nbformat_minor": 5
}